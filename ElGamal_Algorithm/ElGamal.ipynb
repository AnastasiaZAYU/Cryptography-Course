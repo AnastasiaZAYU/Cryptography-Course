{
  "nbformat": 4,
  "nbformat_minor": 0,
  "metadata": {
    "colab": {
      "provenance": [],
      "authorship_tag": "ABX9TyPCfRbIDSTWE0f3dwBqeydS",
      "include_colab_link": true
    },
    "kernelspec": {
      "name": "python3",
      "display_name": "Python 3"
    },
    "language_info": {
      "name": "python"
    }
  },
  "cells": [
    {
      "cell_type": "markdown",
      "metadata": {
        "id": "view-in-github",
        "colab_type": "text"
      },
      "source": [
        "<a href=\"https://colab.research.google.com/github/AnastasiaZAYU/Cryptography-Course/blob/main/ElGamal_Algorithm/ElGamal.ipynb\" target=\"_parent\"><img src=\"https://colab.research.google.com/assets/colab-badge.svg\" alt=\"Open In Colab\"/></a>"
      ]
    },
    {
      "cell_type": "markdown",
      "source": [
        "# Реалізація алгоритму Ель-Гамаля для підписання та шифрування повідомлень"
      ],
      "metadata": {
        "id": "NGVCRKpquvdz"
      }
    },
    {
      "cell_type": "code",
      "source": [
        "!pip install pycryptodome\n",
        "from my_console import MyConsole"
      ],
      "metadata": {
        "colab": {
          "base_uri": "https://localhost:8080/"
        },
        "id": "XxoNYKcYSH3u",
        "outputId": "a2bd787d-f4b4-4d1a-f281-64d93cbce1ea"
      },
      "execution_count": 1,
      "outputs": [
        {
          "output_type": "stream",
          "name": "stdout",
          "text": [
            "Collecting pycryptodome\n",
            "  Downloading pycryptodome-3.19.0-cp35-abi3-manylinux_2_17_x86_64.manylinux2014_x86_64.whl (2.1 MB)\n",
            "\u001b[2K     \u001b[90m━━━━━━━━━━━━━━━━━━━━━━━━━━━━━━━━━━━━━━━━\u001b[0m \u001b[32m2.1/2.1 MB\u001b[0m \u001b[31m20.4 MB/s\u001b[0m eta \u001b[36m0:00:00\u001b[0m\n",
            "\u001b[?25hInstalling collected packages: pycryptodome\n",
            "Successfully installed pycryptodome-3.19.0\n"
          ]
        }
      ]
    },
    {
      "cell_type": "code",
      "source": [
        "if __name__ == '__main__':\n",
        "    MyConsole().cmdloop()"
      ],
      "metadata": {
        "colab": {
          "base_uri": "https://localhost:8080/"
        },
        "id": "hEbMynY6AGtd",
        "outputId": "fef52a66-9575-417f-8a72-586f1b7328dc"
      },
      "execution_count": 2,
      "outputs": [
        {
          "name": "stdout",
          "output_type": "stream",
          "text": [
            "Введіть help або ? для отримання списку команд.\n",
            "Перед початком роботи потрібно згенерувати параметри алгоритму gen_parameters.\n",
            "Для того, щоб завершити роботу, введіть quit\n",
            "> help\n",
            "\n",
            "Documented commands (type help <topic>):\n",
            "========================================\n",
            "help\n",
            "\n",
            "Undocumented commands:\n",
            "======================\n",
            "decrypt  encrypt  gen_keys  gen_parameters  quit  sign  verify\n",
            "\n",
            "> gen_parameters\n",
            "Введіть розмір модуля поля в бітах: 2048\n",
            "Модуль поля:  0xd2197bc0f5833eadc59d19d78109663475c3eff3f3211fe625547356d9156279ad99319e18b238991e3e84d56e1d3a8cd07f549484dd37aa6e08de969eb2ffeb4de14cc7b27ee4576c6296a14c6e90578114b9b1b46ca23e2277ed580da0345ce96fb416cd512c2ce34f1ee7cfc88f35e76a1465717c35423fd44c99a4110be01b3ec0ced7f2ad1884e7abee96c2814a578573ae3abbdbcf206e03cb39c70c44b15c234323d1d337229441a1e1b7e561fc04a1f4f2c40d0590d3d9126e9214b19592c4b52995ab3e2eccc64795315a756a81861e3f81150cfe83f885b7a5d215f58568e6694663c7e4659ce37773afef05a4f860012aac9cb7d8f051290504bf\n",
            "Генератор поля:  0x842bfc081e30f4c41ba3671ac3e5f10df9730a11f6c528b8d62bb52f4ed5f275bb25e5e6dac9691e9348f6c4e4d33190e486241ad889d74a79da455de8f5c548980459d18700a8c57e470a6a68174c5b9000da81ce0a5379a148dcb9181fae9aa6f24f057c102e4519c1fb281296f094401fdc615f0ddcf9dd077f2f1f90f1d5412d3e08f6eb9742c90203620ec78fcebb98df86af6835fc3daf73247a7b96c070fe1aa1bb68daf68dfefab65014a7a53faa9d928d828d801c572c71ce2d8c077e08706758c114fc07793975bfae1bebb552993160e92986d7355428897557746b75e020be51ed0f302b6aab10f006ab94d784f678fcb34a69ae1b766ad80ef1\n",
            "> gen_keys\n",
            "Приватний ключ:  0x4af79cdc150500e4910434bd0230535281378a85c368baacd885a80f4408177b44823bda2e718cae190d558fda3b8d7857021bf614034ba03b89c1af420a8befc17c44daa61a3861550822a9dde722205e5ef21f3186164136ab02d1f1902aefaf81902c518bdf92e7eaa4d9e47d24bfbade6937ab82bb7b9723f1379c867a1306a1fa5638fa4919ca27b5d28b4f68b1c9571878506ee1e7ff6af8f878391f2a21acdef3c6f4ff1b8953e074ea45795e04ec1217487fbe6a4c0a90b6244b217fd152459c758441a84e1c15cad25339a06694f3a5684edc5efc55fdded9f307a6b3b6016a874ece1e31b2e7614a31c5734c68a0fb5ad6a82e377e8c51dadccf8f\n",
            "Відкритий ключ:  0xab6b9226be13eb1538f0d957bb9b8985049e5539a7528fa60494c162c35bd9596fceccbf06c183ca62941c4925ee2ffcc30daef8e5ceeb20ec8dad35d10d5d119937aff98484a71b63c5f4051ef6870ad007ba495d4ae7290d9e2d3cf8511a79514a52acb826de701226078333c83bc12667ecc250653a71dad84549b443547880498f7066a656b3d668724ffee2a460eb02b6746c6bbdbb249eecca7d93ca3aca04419dea0ac2967104736459436d296daf6d9015692ac45f62dced47b22627ab22dc2c4b937968be898c6e893c278cbf4de3e1f2ce25ef19eb3a3bbf99f46e1898784edc4a5943c94a95feedefd6b6d6b28d73325f4b75d7b91decab50780e\n",
            "> sign\n",
            "Введіть повідомлення, яке хочете підписати: This message is to verify the corectness of the El Gamal digital signature algorithm.\n",
            "Введіть ваш приватний ключ: 0x4af79cdc150500e4910434bd0230535281378a85c368baacd885a80f4408177b44823bda2e718cae190d558fda3b8d7857021bf614034ba03b89c1af420a8befc17c44daa61a3861550822a9dde722205e5ef21f3186164136ab02d1f1902aefaf81902c518bdf92e7eaa4d9e47d24bfbade6937ab82bb7b9723f1379c867a1306a1fa5638fa4919ca27b5d28b4f68b1c9571878506ee1e7ff6af8f878391f2a21acdef3c6f4ff1b8953e074ea45795e04ec1217487fbe6a4c0a90b6244b217fd152459c758441a84e1c15cad25339a06694f3a5684edc5efc55fdded9f307a6b3b6016a874ece1e31b2e7614a31c5734c68a0fb5ad6a82e377e8c51dadccf8f\n",
            "Підпис повідомлення:\n",
            "r:  0xca8faa85acb16037ba39a6b53e946665c9c0b93d2cba699316089c0c8e98ca1a2a4b89c787d183e2662948f87db7ffd9c94697d0d2c8fcdab839c300935bc50874fca2d92776b6be8d6d4fcc53b8939dc57f6d8567ec1233e5fc87d7c69607cca4b90869fe14f35cefa2834ade3ded590e9d903f4dfcc79c8082ceecbd7fb7cad93f6c531e77021813205df0ce57e8dda39247d3ff1fd45e50d990e912cbb8464b771a73019d77e1762211aeda14ce2c766123cb93438ef652a7a89c8f10654ccfa02437b2b26cbc3ce8e3b1745afd54e7c8fe55fc1be06259870d2fc29d9a9d35371652c2316636d864b22a0d2e120fa402fc6b1e4216e94026d09d9c851952\n",
            "s:  0x12af643802f682b570f2e7372b145d72a018bd90e574e3a2ac18dea2430433b852f73146bc3ec97affc59c04ec799a0c84d6432f9e54dad62ed0b8990c3b502a6751b647490c33c9b514e9b3ce9be53e9241c6cdc8b50167b41e75eb1cb35d0cc457dff0c4557478a66b2a81b8c99bf535c03f89c6f20afeefda5712dc9a6344c88383fa4235b0697d9d9edd5e635656fa5374d18d6acc87467b94d000cc19b76e2bac048d4d9bb48485a4db881624eb6efc51b49f895eb350b4f54c1c447c0896b041bd3a5000d78572c106554edd3cfc9d335c01e3341dd16fd49e53ecd8ee14634b9d0e91f116a63477b8e9e666ac73776b4d7fca6f850a163a204bd1cf71\n",
            "> verify\n",
            "Введіть повідомлення, яке було підписано: This message is to verify the corectness of the El Gamal digital signature algorithm.\n",
            "Введіть підпис:\n",
            "Введіть r: 0xca8faa85acb16037ba39a6b53e946665c9c0b93d2cba699316089c0c8e98ca1a2a4b89c787d183e2662948f87db7ffd9c94697d0d2c8fcdab839c300935bc50874fca2d92776b6be8d6d4fcc53b8939dc57f6d8567ec1233e5fc87d7c69607cca4b90869fe14f35cefa2834ade3ded590e9d903f4dfcc79c8082ceecbd7fb7cad93f6c531e77021813205df0ce57e8dda39247d3ff1fd45e50d990e912cbb8464b771a73019d77e1762211aeda14ce2c766123cb93438ef652a7a89c8f10654ccfa02437b2b26cbc3ce8e3b1745afd54e7c8fe55fc1be06259870d2fc29d9a9d35371652c2316636d864b22a0d2e120fa402fc6b1e4216e94026d09d9c851952\n",
            "Введіть s: 0x12af643802f682b570f2e7372b145d72a018bd90e574e3a2ac18dea2430433b852f73146bc3ec97affc59c04ec799a0c84d6432f9e54dad62ed0b8990c3b502a6751b647490c33c9b514e9b3ce9be53e9241c6cdc8b50167b41e75eb1cb35d0cc457dff0c4557478a66b2a81b8c99bf535c03f89c6f20afeefda5712dc9a6344c88383fa4235b0697d9d9edd5e635656fa5374d18d6acc87467b94d000cc19b76e2bac048d4d9bb48485a4db881624eb6efc51b49f895eb350b4f54c1c447c0896b041bd3a5000d78572c106554edd3cfc9d335c01e3341dd16fd49e53ecd8ee14634b9d0e91f116a63477b8e9e666ac73776b4d7fca6f850a163a204bd1cf71\n",
            "Введіть відкритий ключ: 0xab6b9226be13eb1538f0d957bb9b8985049e5539a7528fa60494c162c35bd9596fceccbf06c183ca62941c4925ee2ffcc30daef8e5ceeb20ec8dad35d10d5d119937aff98484a71b63c5f4051ef6870ad007ba495d4ae7290d9e2d3cf8511a79514a52acb826de701226078333c83bc12667ecc250653a71dad84549b443547880498f7066a656b3d668724ffee2a460eb02b6746c6bbdbb249eecca7d93ca3aca04419dea0ac2967104736459436d296daf6d9015692ac45f62dced47b22627ab22dc2c4b937968be898c6e893c278cbf4de3e1f2ce25ef19eb3a3bbf99f46e1898784edc4a5943c94a95feedefd6b6d6b28d73325f4b75d7b91decab50780e\n",
            "True\n",
            "> verify\n",
            "Введіть повідомлення, яке було підписано: That message is to verify the corectness of the El Gamal digital signature algorithm.\n",
            "Введіть підпис:\n",
            "Введіть r: 0xca8faa85acb16037ba39a6b53e946665c9c0b93d2cba699316089c0c8e98ca1a2a4b89c787d183e2662948f87db7ffd9c94697d0d2c8fcdab839c300935bc50874fca2d92776b6be8d6d4fcc53b8939dc57f6d8567ec1233e5fc87d7c69607cca4b90869fe14f35cefa2834ade3ded590e9d903f4dfcc79c8082ceecbd7fb7cad93f6c531e77021813205df0ce57e8dda39247d3ff1fd45e50d990e912cbb8464b771a73019d77e1762211aeda14ce2c766123cb93438ef652a7a89c8f10654ccfa02437b2b26cbc3ce8e3b1745afd54e7c8fe55fc1be06259870d2fc29d9a9d35371652c2316636d864b22a0d2e120fa402fc6b1e4216e94026d09d9c851952\n",
            "Введіть s: 0x12af643802f682b570f2e7372b145d72a018bd90e574e3a2ac18dea2430433b852f73146bc3ec97affc59c04ec799a0c84d6432f9e54dad62ed0b8990c3b502a6751b647490c33c9b514e9b3ce9be53e9241c6cdc8b50167b41e75eb1cb35d0cc457dff0c4557478a66b2a81b8c99bf535c03f89c6f20afeefda5712dc9a6344c88383fa4235b0697d9d9edd5e635656fa5374d18d6acc87467b94d000cc19b76e2bac048d4d9bb48485a4db881624eb6efc51b49f895eb350b4f54c1c447c0896b041bd3a5000d78572c106554edd3cfc9d335c01e3341dd16fd49e53ecd8ee14634b9d0e91f116a63477b8e9e666ac73776b4d7fca6f850a163a204bd1cf71\n",
            "Введіть відкритий ключ: 0xab6b9226be13eb1538f0d957bb9b8985049e5539a7528fa60494c162c35bd9596fceccbf06c183ca62941c4925ee2ffcc30daef8e5ceeb20ec8dad35d10d5d119937aff98484a71b63c5f4051ef6870ad007ba495d4ae7290d9e2d3cf8511a79514a52acb826de701226078333c83bc12667ecc250653a71dad84549b443547880498f7066a656b3d668724ffee2a460eb02b6746c6bbdbb249eecca7d93ca3aca04419dea0ac2967104736459436d296daf6d9015692ac45f62dced47b22627ab22dc2c4b937968be898c6e893c278cbf4de3e1f2ce25ef19eb3a3bbf99f46e1898784edc4a5943c94a95feedefd6b6d6b28d73325f4b75d7b91decab50780e\n",
            "False\n",
            "> quit\n"
          ]
        }
      ]
    },
    {
      "cell_type": "code",
      "source": [
        "if __name__ == '__main__':\n",
        "    MyConsole().cmdloop()"
      ],
      "metadata": {
        "colab": {
          "base_uri": "https://localhost:8080/"
        },
        "id": "XxHV5f3_tWeF",
        "outputId": "08bda7f6-284d-40fb-91fd-0e81f3f19084"
      },
      "execution_count": 3,
      "outputs": [
        {
          "name": "stdout",
          "output_type": "stream",
          "text": [
            "Введіть help або ? для отримання списку команд.\n",
            "Перед початком роботи потрібно згенерувати параметри алгоритму gen_parameters.\n",
            "Для того, щоб завершити роботу, введіть quit\n",
            "> gen_parameters\n",
            "Введіть розмір модуля поля в бітах: 2048\n",
            "Модуль поля:  0xfef7c1ef2a41aa6f1f786e8913289e55080291cd5a22ccfafe5004376955a8fb2544f7dca1e3d1410115c63db3c01185911f04eca975e8e5fddf488a40e837c47b314c8c84e94e16e942206e49a2c761b78529729d27f8f709f93a864bd3aac71d2c3a61f73684fb8ccc33596fe824f6227df642130e34f5bf4437ab8c4efbb73784e7da867ca0d4eca40ea1b98d73d92637674cb72d89a7cd9d8afd7c1b53d60ce2aae631ae06fc3d15db969e57e67239225cb13e06b2c26d1032974336aa7838026d04eff41e50922ca075cc4dfbea15c3ea115c3b2055f86ed96a28f777cc3afc1cee281f901a81ccf7013599c6ab94889e671e4c20bbb7e6101c756518a9\n",
            "Генератор поля:  0x1488605c96567a6ffc4aba36d7dd8751fa5354a9c0cfea0d7223ea2ca19df282ee28525abcf6fd4c3543885de0430c4ba1687a37a8a0b7b0a2637bec5bee74e643351f9c68027cbc20ad9b1a4f3e49dfe357d027b93607f52d19094b7181cc4ea84c0fb247d3823120185c1d7cc3028245c933045a3b1fb08786362c2c9448595ac78dbd926237f678e60135db5f3393326ab82ef218cd7a591454ed2af8cd9f1afc987f85cbf139005e2f39a14c0c6684258440a5d745ac3309873531b525deefbfb82e5c26d4bd7294d3b8f3c71c0a8856bd8fb806c7140797b1130f313e1c86a8cbfaeb0388fdfb57357565f6b2f8c3c7d0e5a721008456e82ed00bc43c87\n",
            "> gen_keys\n",
            "Приватний ключ:  0x880309a29650deddf3b8ee886cc6bae364365423f1121d973c7207f94a904372d7f31cebd9fc103629d24917d331b5c3bcaf65d3b059234ce78f75a603f2f299299be5f37773aa4fc5b61a02fb6f966e092011787a43523eead60da227e3d734cda07403e8f0551ae9fe9b9236cd69d7f93b0877d14bf5f6333a35d0ea7c2cbeeb12c00f8ee699d3f7f6f0ccd4c8a4bbdd64bfcf3a5928face015182544e1e9ba7ded7e2c4e8748e9c178ea8b114fa6237781b9ffc73ea5592c74567a46dbc76e6f8171e171fd64e0901696449426b312a5ef13c065f6a64ff023721dde8c0330ac44b99fd99009b1cfe5fce6d15c6265c17365dbbb1efec523c0ecb0c7531bd\n",
            "Відкритий ключ:  0xd842a26128b1fd6f48e0a611d3181813dd9c540ce0ba286af02e124817259bb5acad7079e84e5cf442f6e127fc0f2bb0c3aae16d4ee1fc57733c0a84a67e8a14fa4046fa0cc5becbf002eca91cdc8675648a7adf2191615dac7b668b7dbfe27111f44b1c2360c3b5aeb2df766b9bc967e06b7fec41a09203e0be4f4ac4d1d3b3c2799d90ba41d8f7a28173fbb92faee0ab542500784b53bee132894163ceb7f2fc715aa149b77f294ac7761b6b78173defb87b9c99aebc7235d8c0b0c35b6df62196d005e3d1416b0d2dcbce2148c690163a78b41d9d79e932fc43c7d6ba16153d8efef90b377452a063f3ea235327f608d5a0732e8958973090de36199a56d1\n",
            "> encrypt\n",
            "Введіть повідомлення, яке хочете зашифрувати: This message is intended to test the functionality of the encryption and decryption functions of the El-Gamal algorithm. Please note that this message is very long. The length of this message is 263 bytes, while the length of the module is 256 bytes or 2048 bits.\n",
            "Введіть відкритий ключ: 0xd842a26128b1fd6f48e0a611d3181813dd9c540ce0ba286af02e124817259bb5acad7079e84e5cf442f6e127fc0f2bb0c3aae16d4ee1fc57733c0a84a67e8a14fa4046fa0cc5becbf002eca91cdc8675648a7adf2191615dac7b668b7dbfe27111f44b1c2360c3b5aeb2df766b9bc967e06b7fec41a09203e0be4f4ac4d1d3b3c2799d90ba41d8f7a28173fbb92faee0ab542500784b53bee132894163ceb7f2fc715aa149b77f294ac7761b6b78173defb87b9c99aebc7235d8c0b0c35b6df62196d005e3d1416b0d2dcbce2148c690163a78b41d9d79e932fc43c7d6ba16153d8efef90b377452a063f3ea235327f608d5a0732e8958973090de36199a56d1\n",
            "Шифртекст:\n",
            "x:  0xb3c087d4badb8084a10b3027cae77997820920d11e709476afb4dad773930648e44c3ccaa9628b8d8d5c060ab3a2afcc35cf3ca5b441bd73d9a43f95f7f0b077e731c2784d8167447b8ff2c8540338438ea4668e28c3cd6e2c3a5ae38e06dc921bfc9fd9b3dace95c0cb8137934db8c2a870cd21e2d450b7c174ca18c420bda6b2e349710815812879bdba14d097df5d33bbf7155f97bee95f491827ed5aa6ea25a24a7fc62717d6fb821a56e12ce61146d339746e7fe9e5b65a4a897fb300119ccdcd16deaa5326c5cd4f99a821021ef148f040358d34e9107e2578006a3f9528f1df0202db3cfa624d5d092ab7ab521a5b64c6f251fbcae0038ada64738df5\n",
            "y: a390b942fa708eb5edb78b223086fb4ee025858ad3e636f1082f1d891e696fca82a39832660eab35dafcd59ff0f2e096bd0b79104bbc2d8f0c79bdec0df17a7d1b047b8465a18448b47d25f63890c5257bbea746e04cbd76ac2f5770a0a678f6e93463833a1ab14c9694029f97798e1d30fb72bde101c4f8bc2bc35e7ea1b07400d228870244902d2a876e813a7490c2fcc26070caff93ca416adae80bdcf142ca30a85b120e1b50c662996ef1a5fa2522bf1f4f8d9684840779a872f23bb318395425ef624416960371cce2b36df1df0bcaed863759b2da03830af590ca4e2014dba065927624b89b1cd7d5f512f489e2a73b85f168860ee5c94a1b19a65113c690fc3e548ccd78b7ba3d862f56dd2f3efd02d8ccaae2ffde116a74648373b0e653a33c6c6e0edb375154f0a356706fde40ab43afeb9b77be6c74b7f26e040bb1d96af2e7ea00f7b97e0f115851f885d18a5aeba39e698776b17b63a6f57a7858956cbaf71f9379556be577663853c09730cd598b73a0adbb748789de2e5c18b0d8984301a78e65392711402d3dc5c55b70c29c4381f39ea85d862633a2afb63883a159ec3cf3830ea41e77a0d746203badd45b850e18a2dcb53c588caca4ab924aa4adf88ba9888bfc3f2b3aed34f1f77098316ccb06cea6e7dfdce0ea751b4e28763ca8235cd4482d242028844dd5b15972ae3d458226d502fcd76259cdee\n",
            "> decrypt\n",
            "Введіть шифртекст, який потрібно розшифруувати: \n",
            "Введіть x: 0xb3c087d4badb8084a10b3027cae77997820920d11e709476afb4dad773930648e44c3ccaa9628b8d8d5c060ab3a2afcc35cf3ca5b441bd73d9a43f95f7f0b077e731c2784d8167447b8ff2c8540338438ea4668e28c3cd6e2c3a5ae38e06dc921bfc9fd9b3dace95c0cb8137934db8c2a870cd21e2d450b7c174ca18c420bda6b2e349710815812879bdba14d097df5d33bbf7155f97bee95f491827ed5aa6ea25a24a7fc62717d6fb821a56e12ce61146d339746e7fe9e5b65a4a897fb300119ccdcd16deaa5326c5cd4f99a821021ef148f040358d34e9107e2578006a3f9528f1df0202db3cfa624d5d092ab7ab521a5b64c6f251fbcae0038ada64738df5\n",
            "Введіть y: a390b942fa708eb5edb78b223086fb4ee025858ad3e636f1082f1d891e696fca82a39832660eab35dafcd59ff0f2e096bd0b79104bbc2d8f0c79bdec0df17a7d1b047b8465a18448b47d25f63890c5257bbea746e04cbd76ac2f5770a0a678f6e93463833a1ab14c9694029f97798e1d30fb72bde101c4f8bc2bc35e7ea1b07400d228870244902d2a876e813a7490c2fcc26070caff93ca416adae80bdcf142ca30a85b120e1b50c662996ef1a5fa2522bf1f4f8d9684840779a872f23bb318395425ef624416960371cce2b36df1df0bcaed863759b2da03830af590ca4e2014dba065927624b89b1cd7d5f512f489e2a73b85f168860ee5c94a1b19a65113c690fc3e548ccd78b7ba3d862f56dd2f3efd02d8ccaae2ffde116a74648373b0e653a33c6c6e0edb375154f0a356706fde40ab43afeb9b77be6c74b7f26e040bb1d96af2e7ea00f7b97e0f115851f885d18a5aeba39e698776b17b63a6f57a7858956cbaf71f9379556be577663853c09730cd598b73a0adbb748789de2e5c18b0d8984301a78e65392711402d3dc5c55b70c29c4381f39ea85d862633a2afb63883a159ec3cf3830ea41e77a0d746203badd45b850e18a2dcb53c588caca4ab924aa4adf88ba9888bfc3f2b3aed34f1f77098316ccb06cea6e7dfdce0ea751b4e28763ca8235cd4482d242028844dd5b15972ae3d458226d502fcd76259cdee\n",
            "Введіть приватний ключ: 0x880309a29650deddf3b8ee886cc6bae364365423f1121d973c7207f94a904372d7f31cebd9fc103629d24917d331b5c3bcaf65d3b059234ce78f75a603f2f299299be5f37773aa4fc5b61a02fb6f966e092011787a43523eead60da227e3d734cda07403e8f0551ae9fe9b9236cd69d7f93b0877d14bf5f6333a35d0ea7c2cbeeb12c00f8ee699d3f7f6f0ccd4c8a4bbdd64bfcf3a5928face015182544e1e9ba7ded7e2c4e8748e9c178ea8b114fa6237781b9ffc73ea5592c74567a46dbc76e6f8171e171fd64e0901696449426b312a5ef13c065f6a64ff023721dde8c0330ac44b99fd99009b1cfe5fce6d15c6265c17365dbbb1efec523c0ecb0c7531bd\n",
            "Розшифроване повідомлення:  This message is intended to test the functionality of the encryption and decryption functions of the El-Gamal algorithm. Please note that this message is very long. The length of this message is 263 bytes, while the length of the module is 256 bytes or 2048 bits.\n",
            "> quit\n"
          ]
        }
      ]
    }
  ]
}